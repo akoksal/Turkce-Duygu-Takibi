{
 "cells": [
  {
   "cell_type": "markdown",
   "metadata": {},
   "source": [
    "# Çalışma\n",
    "\n",
    "Bu çalışmada çeşitli transformer modellerini farklı ince ayar (finetuning) eğitim senaryoları için **doğrulama setindeki doğruluk skoru** üzerinden karşılaştırdık. Toplamda 216 farklı senaryo karşılaştırılmıştır.\n",
    "\n",
    "## 1. Transformers \n",
    "\n",
    "Kullanılan transformer modelleri:\n",
    "* [Multilingual BERT](https://github.com/google-research/bert) : Multilingual BERT, Google tarafından 104 dil için Wikipedia üzerinden eğitilmiş bir modeldir.\n",
    "* [BerTurk](https://huggingface.co/dbmdz/bert-base-turkish-cased) : Stefan Schweter tarafından 35 GB'lık çeşitli Türkçe kaynaklardan oluşturularak eğitilmiş, BERT'in base modeli ile aynı büyüklüğe sahip bir modeldir.\n",
    "* [Distilled (Damıtılmış) BerTurk](https://huggingface.co/dbmdz/distilbert-base-turkish-cased) : Yukarıdaki transformer modelinin, distillation [1] tekniğiyle başarımı ciddi seviyede korunarak, damıtılmış bir halidir.\n",
    "\n",
    "\n",
    "Modellerin karşılaştırması:\n",
    "\n",
    "|                   | Katman Sayısı | Kafa Sayısı | Saklı Katman Büyüklüğü | Toplam Parametre Sayısı |\n",
    "|-------------------|:-------------:|:-----------:|:----------------------:|:-----------------------:|\n",
    "| Multilingual BERT |       12      |      12     |           768          |           110M          |\n",
    "| BerTurk           |       12      |      12     |           768          |           110M          |\n",
    "| Distilled BerTurk |       6       |      12     |           768          |           66M           |\n",
    "\n",
    "\n",
    "## 2. İyileştirici (Optimizer)\n",
    "\n",
    "Çeşitli optimizerlar bu çalışmada denenmiştir:\n",
    "* [AdamW](https://arxiv.org/pdf/1711.05101.pdf)\n",
    "* [Adam](https://arxiv.org/pdf/1412.6980.pdf)\n",
    "* [SGD](https://projecteuclid.org/euclid.aoms/1177729392)\n",
    "\n",
    "\n",
    "## 3. Öğrenme Oranı & Kilo Kaybı (?) (Learning Rate & Weight Decay)\n",
    "\n",
    "1e-3, 1e-4, 1e-5, 1e-6 öğrenme oranları ve 0, 0.01, 0.1 weight decay değerleri ince ayar senaryolarında araştırılmıştır.\n",
    "\n",
    "## 4. Ön İşleme\n",
    "\n",
    "Her ne kadar derin öğrenme tekniklerinin popülerleşmesiyle ön işleme (preprocessing) tekniklerinin önemi azalsa da bu çalışmada basit bir şekilde URL silmenin etkisi de incelenmiştir.\n",
    "\n",
    "\n",
    "***\n",
    "\n",
    "Türkçeleştirme Deep Learning Türkiye'nin sözlüğü referans alınarak yapılmıştır: https://github.com/deeplearningturkiye/turkce-yapay-zeka-terimleri/blob/master/ingilizce-turkce.md"
   ]
  },
  {
   "cell_type": "code",
   "execution_count": 1,
   "metadata": {},
   "outputs": [],
   "source": [
    "import pandas as pd\n",
    "import json\n",
    "import os\n",
    "from collections import defaultdict\n",
    "import seaborn as sns\n",
    "import matplotlib.pyplot as plt\n",
    "import numpy as np"
   ]
  },
  {
   "cell_type": "code",
   "execution_count": 2,
   "metadata": {},
   "outputs": [],
   "source": [
    "results_path = \"../../Turkish_Sentiment_Monitoring/Training/Results/\""
   ]
  },
  {
   "cell_type": "code",
   "execution_count": 3,
   "metadata": {},
   "outputs": [],
   "source": [
    "# Sonuç json dosyalarını okumak için basit bir yardımcı fonksiyon\n",
    "def read_result(fp):\n",
    "    with open(fp, \"r\") as f:\n",
    "        return json.load(f)"
   ]
  },
  {
   "cell_type": "markdown",
   "metadata": {},
   "source": [
    "## Üst Değişken (Hyperparameter) Aramasında Ortalama Sonuçlara göre Karşılaştırma"
   ]
  },
  {
   "cell_type": "code",
   "execution_count": 4,
   "metadata": {},
   "outputs": [],
   "source": [
    "all_results = []\n",
    "columns = [\"Transformer\", \"Optimizer\", \"Learning Rate\", \"Weight Decay\", \"Url Removal\", \"Training Loss\", \"Training Accuracy\", \"Training Recall\", \"Validation Accuracy\", \"Validation Recall\"]\n",
    "important_cols = [\"Training Loss\", \"Training Accuracy\", \"Training Recall\", \"Validation Accuracy\", \"Validation Recall\"]\n",
    "for transformer in [\"mbert\", \"berturk\", \"distilberturk\"]:\n",
    "    for folder in os.listdir(os.path.join(results_path, transformer)):\n",
    "        temp = defaultdict(int)\n",
    "        temp[\"Transformer\"] = transformer\n",
    "        temp[\"Optimizer\"] = folder.split(\"_\")[0]\n",
    "        temp[\"Learning Rate\"] = float(folder.split(\"_\")[1])\n",
    "        temp[\"Weight Decay\"] = float(folder.split(\"_\")[2])\n",
    "        temp[\"Url Removal\"] = len(folder.split(\"_\"))>3\n",
    "        count = 0\n",
    "        for run in range(1, 4):\n",
    "            try:\n",
    "                current_run = read_result(os.path.join(results_path, transformer, folder, str(run)+\".json\"))\n",
    "                current_run[\"Training Recall\"] = current_run[\"Train Recall\"]\n",
    "                del current_run[\"Train Recall\"]\n",
    "                for col in important_cols:\n",
    "                    temp[col] += current_run[col]\n",
    "                count += 1\n",
    "\n",
    "            except Exception as e:\n",
    "                continue\n",
    "        \n",
    "        for col in important_cols:\n",
    "            temp[col] /= count\n",
    "        all_results.append(temp)\n",
    "\n",
    "avg_results = pd.DataFrame(all_results).sort_values(\"Validation Accuracy\", ascending = False)[columns].reset_index(drop=True)"
   ]
  },
  {
   "cell_type": "markdown",
   "metadata": {},
   "source": [
    "Doğrulama setindeki doğruluk puanlarına (accuracy) göre modellerin sıralaması aşağıda görülmektedir.\n",
    "\n",
    "Transformers bazlı modellerde oluşan varyans problemi [2] sebebiyle her bir durum **3 kez** çalıştırılıp, ortalaması alınmıştır."
   ]
  },
  {
   "cell_type": "code",
   "execution_count": 5,
   "metadata": {},
   "outputs": [
    {
     "data": {
      "text/html": [
       "<div>\n",
       "<style scoped>\n",
       "    .dataframe tbody tr th:only-of-type {\n",
       "        vertical-align: middle;\n",
       "    }\n",
       "\n",
       "    .dataframe tbody tr th {\n",
       "        vertical-align: top;\n",
       "    }\n",
       "\n",
       "    .dataframe thead th {\n",
       "        text-align: right;\n",
       "    }\n",
       "</style>\n",
       "<table border=\"1\" class=\"dataframe\">\n",
       "  <thead>\n",
       "    <tr style=\"text-align: right;\">\n",
       "      <th></th>\n",
       "      <th>Transformer</th>\n",
       "      <th>Optimizer</th>\n",
       "      <th>Learning Rate</th>\n",
       "      <th>Weight Decay</th>\n",
       "      <th>Url Removal</th>\n",
       "      <th>Training Loss</th>\n",
       "      <th>Training Accuracy</th>\n",
       "      <th>Training Recall</th>\n",
       "      <th>Validation Accuracy</th>\n",
       "      <th>Validation Recall</th>\n",
       "    </tr>\n",
       "  </thead>\n",
       "  <tbody>\n",
       "    <tr>\n",
       "      <td>0</td>\n",
       "      <td>distilberturk</td>\n",
       "      <td>AdamW</td>\n",
       "      <td>0.000010</td>\n",
       "      <td>0.01</td>\n",
       "      <td>True</td>\n",
       "      <td>11.305967</td>\n",
       "      <td>0.951276</td>\n",
       "      <td>0.943315</td>\n",
       "      <td>0.712572</td>\n",
       "      <td>0.669722</td>\n",
       "    </tr>\n",
       "    <tr>\n",
       "      <td>1</td>\n",
       "      <td>distilberturk</td>\n",
       "      <td>AdamW</td>\n",
       "      <td>0.000010</td>\n",
       "      <td>0.01</td>\n",
       "      <td>False</td>\n",
       "      <td>17.660830</td>\n",
       "      <td>0.921856</td>\n",
       "      <td>0.909624</td>\n",
       "      <td>0.709442</td>\n",
       "      <td>0.665695</td>\n",
       "    </tr>\n",
       "    <tr>\n",
       "      <td>2</td>\n",
       "      <td>distilberturk</td>\n",
       "      <td>AdamW</td>\n",
       "      <td>0.000010</td>\n",
       "      <td>0.10</td>\n",
       "      <td>True</td>\n",
       "      <td>21.564664</td>\n",
       "      <td>0.904471</td>\n",
       "      <td>0.889830</td>\n",
       "      <td>0.706312</td>\n",
       "      <td>0.662225</td>\n",
       "    </tr>\n",
       "    <tr>\n",
       "      <td>3</td>\n",
       "      <td>distilberturk</td>\n",
       "      <td>AdamW</td>\n",
       "      <td>0.000010</td>\n",
       "      <td>0.00</td>\n",
       "      <td>True</td>\n",
       "      <td>11.838296</td>\n",
       "      <td>0.947730</td>\n",
       "      <td>0.938928</td>\n",
       "      <td>0.703182</td>\n",
       "      <td>0.662931</td>\n",
       "    </tr>\n",
       "    <tr>\n",
       "      <td>4</td>\n",
       "      <td>distilberturk</td>\n",
       "      <td>AdamW</td>\n",
       "      <td>0.000010</td>\n",
       "      <td>0.00</td>\n",
       "      <td>False</td>\n",
       "      <td>7.206128</td>\n",
       "      <td>0.969998</td>\n",
       "      <td>0.963908</td>\n",
       "      <td>0.703182</td>\n",
       "      <td>0.660954</td>\n",
       "    </tr>\n",
       "    <tr>\n",
       "      <td>...</td>\n",
       "      <td>...</td>\n",
       "      <td>...</td>\n",
       "      <td>...</td>\n",
       "      <td>...</td>\n",
       "      <td>...</td>\n",
       "      <td>...</td>\n",
       "      <td>...</td>\n",
       "      <td>...</td>\n",
       "      <td>...</td>\n",
       "      <td>...</td>\n",
       "    </tr>\n",
       "    <tr>\n",
       "      <td>211</td>\n",
       "      <td>distilberturk</td>\n",
       "      <td>SGD</td>\n",
       "      <td>0.000001</td>\n",
       "      <td>0.10</td>\n",
       "      <td>False</td>\n",
       "      <td>102.211427</td>\n",
       "      <td>0.276528</td>\n",
       "      <td>0.211107</td>\n",
       "      <td>0.271257</td>\n",
       "      <td>0.208449</td>\n",
       "    </tr>\n",
       "    <tr>\n",
       "      <td>212</td>\n",
       "      <td>distilberturk</td>\n",
       "      <td>SGD</td>\n",
       "      <td>0.000010</td>\n",
       "      <td>0.10</td>\n",
       "      <td>False</td>\n",
       "      <td>101.252340</td>\n",
       "      <td>0.241758</td>\n",
       "      <td>0.163677</td>\n",
       "      <td>0.247783</td>\n",
       "      <td>0.170341</td>\n",
       "    </tr>\n",
       "    <tr>\n",
       "      <td>213</td>\n",
       "      <td>berturk</td>\n",
       "      <td>SGD</td>\n",
       "      <td>0.000001</td>\n",
       "      <td>0.01</td>\n",
       "      <td>False</td>\n",
       "      <td>106.122190</td>\n",
       "      <td>0.230827</td>\n",
       "      <td>0.324540</td>\n",
       "      <td>0.245175</td>\n",
       "      <td>0.326893</td>\n",
       "    </tr>\n",
       "    <tr>\n",
       "      <td>214</td>\n",
       "      <td>berturk</td>\n",
       "      <td>Adam</td>\n",
       "      <td>0.000001</td>\n",
       "      <td>0.00</td>\n",
       "      <td>True</td>\n",
       "      <td>109.958505</td>\n",
       "      <td>0.225246</td>\n",
       "      <td>0.337146</td>\n",
       "      <td>0.243610</td>\n",
       "      <td>0.414862</td>\n",
       "    </tr>\n",
       "    <tr>\n",
       "      <td>215</td>\n",
       "      <td>mbert</td>\n",
       "      <td>SGD</td>\n",
       "      <td>0.000001</td>\n",
       "      <td>0.00</td>\n",
       "      <td>False</td>\n",
       "      <td>101.469826</td>\n",
       "      <td>0.223385</td>\n",
       "      <td>0.358837</td>\n",
       "      <td>0.220657</td>\n",
       "      <td>0.251852</td>\n",
       "    </tr>\n",
       "  </tbody>\n",
       "</table>\n",
       "<p>216 rows × 10 columns</p>\n",
       "</div>"
      ],
      "text/plain": [
       "       Transformer Optimizer  Learning Rate  Weight Decay  Url Removal  \\\n",
       "0    distilberturk     AdamW       0.000010          0.01         True   \n",
       "1    distilberturk     AdamW       0.000010          0.01        False   \n",
       "2    distilberturk     AdamW       0.000010          0.10         True   \n",
       "3    distilberturk     AdamW       0.000010          0.00         True   \n",
       "4    distilberturk     AdamW       0.000010          0.00        False   \n",
       "..             ...       ...            ...           ...          ...   \n",
       "211  distilberturk       SGD       0.000001          0.10        False   \n",
       "212  distilberturk       SGD       0.000010          0.10        False   \n",
       "213        berturk       SGD       0.000001          0.01        False   \n",
       "214        berturk      Adam       0.000001          0.00         True   \n",
       "215          mbert       SGD       0.000001          0.00        False   \n",
       "\n",
       "     Training Loss  Training Accuracy  Training Recall  Validation Accuracy  \\\n",
       "0        11.305967           0.951276         0.943315             0.712572   \n",
       "1        17.660830           0.921856         0.909624             0.709442   \n",
       "2        21.564664           0.904471         0.889830             0.706312   \n",
       "3        11.838296           0.947730         0.938928             0.703182   \n",
       "4         7.206128           0.969998         0.963908             0.703182   \n",
       "..             ...                ...              ...                  ...   \n",
       "211     102.211427           0.276528         0.211107             0.271257   \n",
       "212     101.252340           0.241758         0.163677             0.247783   \n",
       "213     106.122190           0.230827         0.324540             0.245175   \n",
       "214     109.958505           0.225246         0.337146             0.243610   \n",
       "215     101.469826           0.223385         0.358837             0.220657   \n",
       "\n",
       "     Validation Recall  \n",
       "0             0.669722  \n",
       "1             0.665695  \n",
       "2             0.662225  \n",
       "3             0.662931  \n",
       "4             0.660954  \n",
       "..                 ...  \n",
       "211           0.208449  \n",
       "212           0.170341  \n",
       "213           0.326893  \n",
       "214           0.414862  \n",
       "215           0.251852  \n",
       "\n",
       "[216 rows x 10 columns]"
      ]
     },
     "execution_count": 5,
     "metadata": {},
     "output_type": "execute_result"
    }
   ],
   "source": [
    "avg_results"
   ]
  },
  {
   "cell_type": "markdown",
   "metadata": {},
   "source": [
    "## Transformer Modellerinin ve Optimizerların Etkisi"
   ]
  },
  {
   "cell_type": "code",
   "execution_count": 6,
   "metadata": {},
   "outputs": [],
   "source": [
    "transformers = [\"MBert\", \"BerTurk\", \"Distil BerTurk\"]\n",
    "optimizers = [\"AdamW\", \"Adam\", \"SGD\"]\n",
    "tr_results = []\n",
    "for transformer in [\"mbert\", \"berturk\", \"distilberturk\"]:\n",
    "    temp = []\n",
    "    for opt in optimizers:\n",
    "        temp.append(avg_results.query(f\"Transformer=='{transformer}' & Optimizer =='{opt}'\").iloc[0][\"Validation Accuracy\"])\n",
    "    tr_results.append(temp)"
   ]
  },
  {
   "cell_type": "code",
   "execution_count": 7,
   "metadata": {
    "scrolled": false
   },
   "outputs": [
    {
     "data": {
      "image/png": "[encoded data removed]",
      "text/plain": [
       "<Figure size 700x400 with 2 Axes>"
      ]
     },
     "metadata": {
      "needs_background": "light"
     },
     "output_type": "display_data"
    }
   ],
   "source": [
    "fig, ax = plt.subplots(figsize=(7, 4), dpi=100)\n",
    "sns.heatmap(tr_results, xticklabels=optimizers, yticklabels=transformers, annot=True, linewidths=0.4,\n",
    "            annot_kws={'size': 12}, cmap=\"coolwarm\", fmt=\".3\", cbar_kws={'label': 'doğruluk skoru'}, ax=ax)\n",
    "plt.title(\"Transformers - Optimizer\")\n",
    "plt.yticks(rotation=0) \n",
    "plt.show()"
   ]
  },
  {
   "cell_type": "markdown",
   "metadata": {},
   "source": [
    "<font size=\"3\">**Distilled(Damıtılmış) BerTurk** versiyonu en iyi sonucu veriyor ve aynı zamanda **AdamW** optimizer'ıyla da en iyi sonuçları alıyoruz.</font>"
   ]
  },
  {
   "cell_type": "markdown",
   "metadata": {},
   "source": [
    "## Learning Rate ve Weight Decay Etkisi"
   ]
  },
  {
   "cell_type": "code",
   "execution_count": 8,
   "metadata": {},
   "outputs": [],
   "source": [
    "lr = [0.001, 0.0001, 0.00001, 0.000001]\n",
    "wd = [0, 0.01, 0.1]\n",
    "transformer = \"Distil BerTurk\"\n",
    "optimizer = \"AdamW\"\n",
    "hyp_comp = []\n",
    "for l in lr:\n",
    "    temp = []\n",
    "    for w in wd:\n",
    "        temp.append(avg_results.query(f\"Transformer=='distilberturk' & Optimizer =='{optimizer}' & `Learning Rate` == {l} & `Weight Decay`=={w}\").iloc[0][\"Validation Accuracy\"])\n",
    "    hyp_comp.append(temp)"
   ]
  },
  {
   "cell_type": "code",
   "execution_count": 9,
   "metadata": {},
   "outputs": [
    {
     "data": {
      "image/png": "[encoded data removed]",
      "text/plain": [
       "<Figure size 700x400 with 2 Axes>"
      ]
     },
     "metadata": {
      "needs_background": "light"
     },
     "output_type": "display_data"
    }
   ],
   "source": [
    "fig, ax = plt.subplots(figsize=(7, 4), dpi=100)\n",
    "sns.heatmap(hyp_comp, xticklabels=wd, yticklabels=lr, annot=True, linewidths=0.4,\n",
    "            annot_kws={'size': 12}, cmap=\"coolwarm\", fmt=\".3\", cbar_kws={'label': 'doğruluk skoru'}, ax=ax)\n",
    "plt.xlabel(\"Weight Decay\")\n",
    "plt.ylabel(\"Learning Rate\")\n",
    "plt.yticks(rotation=0) \n",
    "plt.show()"
   ]
  },
  {
   "cell_type": "markdown",
   "metadata": {},
   "source": [
    "<font size=\"3\">En iyi çalışan transformer modeli (Distilled BerTurk) için learning rate ve weight decay ise **0.00001** ve **0.01** için elde ediliyor.</font>"
   ]
  },
  {
   "cell_type": "markdown",
   "metadata": {},
   "source": [
    "## Ön İşlemin Etkisi\n",
    "Bu kısımda da ön işlem olarak url silmenin etkisini inceliyoruz."
   ]
  },
  {
   "cell_type": "code",
   "execution_count": 10,
   "metadata": {},
   "outputs": [
    {
     "name": "stdout",
     "output_type": "stream",
     "text": [
      "Url'leri silerek:\t 0.7126\n",
      "Url'leri silmeden:\t 0.7094\n"
     ]
    }
   ],
   "source": [
    "transformer = \"Distil BerTurk\"\n",
    "optimizer = \"AdamW\"\n",
    "url_removal = ['True', 'False']\n",
    "preprocessing = []\n",
    "for url in url_removal:\n",
    "    preprocessing.append(avg_results.query(f\"Transformer=='distilberturk' & Optimizer =='{optimizer}' & `Url Removal` == {url}\").iloc[0][\"Validation Accuracy\"])\n",
    "\n",
    "print(\"Url'leri silerek:\\t\", np.round(preprocessing[0], 4))\n",
    "print(\"Url'leri silmeden:\\t\", np.round(preprocessing[1], 4))"
   ]
  },
  {
   "cell_type": "markdown",
   "metadata": {},
   "source": [
    "***\n",
    "En iyi modelimizde url silmenin etkisini az da olsa gözlemliyoruz. Belki eğitim veri sayısı daha fazla olsa bu fark daha da kapanabilir, transformer modeli daha iyi modelleyebilir.\n",
    "Bu sonuçlarla beraber hyperparameter search'te en iyi sonuç veren model:\n",
    "\n",
    "* Transformer: **Distil BerTurk**\n",
    "* Optimizer: **AdamW**\n",
    "* Learning Rate: **0.00001**\n",
    "* Weight Decay: **0.01**\n",
    "* Ön işlem: **Url Silmek**"
   ]
  },
  {
   "cell_type": "markdown",
   "metadata": {},
   "source": [
    "### Referanslar\n",
    "1. Victor Sanh, Lysandre Debut, Julien Chaumond, Thomas Wolf. 2019. [DistilBERT, a distilled version of BERT: smaller, faster, cheaper and lighter.](https://arxiv.org/pdf/1910.01108.pdf) arXiv preprint arXiv:1910.01108.\n",
    "\n",
    "2. Jesse Dodge, Gabriel Ilharco, Roy Schwartz, Ali Farhadi, Hannaneh Hajishirzi, and Noah Smith. 2020. [Fine-tuning pretrained language models: Weight initializations, data orders, and early stopping.](https://arxiv.org/pdf/2002.06305.pdf) arXiv preprint arXiv:2002.06305."
   ]
  },
  {
   "cell_type": "code",
   "execution_count": null,
   "metadata": {},
   "outputs": [],
   "source": []
  }
 ],
 "metadata": {
  "kernelspec": {
   "display_name": "Python 3",
   "language": "python",
   "name": "python3"
  },
  "language_info": {
   "codemirror_mode": {
    "name": "ipython",
    "version": 3
   },
   "file_extension": ".py",
   "mimetype": "text/x-python",
   "name": "python",
   "nbconvert_exporter": "python",
   "pygments_lexer": "ipython3",
   "version": "3.7.4"
  }
 },
 "nbformat": 4,
 "nbformat_minor": 2
}
